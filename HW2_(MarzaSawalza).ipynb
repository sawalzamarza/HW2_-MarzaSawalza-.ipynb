{
  "nbformat": 4,
  "nbformat_minor": 0,
  "metadata": {
    "colab": {
      "provenance": [],
      "collapsed_sections": []
    },
    "kernelspec": {
      "name": "python3",
      "display_name": "Python 3"
    },
    "language_info": {
      "name": "python"
    }
  },
  "cells": [
    {
      "cell_type": "code",
      "execution_count": 1,
      "metadata": {
        "id": "l7dI5zU6IgFZ",
        "colab": {
          "base_uri": "https://localhost:8080/"
        },
        "outputId": "8f01c394-c31c-4728-fa60-39ff0d72bfdd"
      },
      "outputs": [
        {
          "output_type": "stream",
          "name": "stdout",
          "text": [
            "10\n",
            "35000\n"
          ]
        }
      ],
      "source": [
        "#Please complete this code to solve the case\n",
        "#Hint change the \"None\"\n",
        "\n",
        "def docar_rate():\n",
        "  #Change the variable dist, so that it can accept integer input from user using input() function\n",
        "  dist = int(input())\n",
        "\n",
        "  #----Start code here----\n",
        "  if dist<0:\n",
        "    print (\"Input can't be negative\")\n",
        "  elif dist>0 and dist<=10:\n",
        "    rate = 10000+(dist*2500)\n",
        "    print(rate)\n",
        "  elif dist>10 and dist<=25:\n",
        "    rate = 10000+(10*2500)+((dist-10)*2250)\n",
        "    print(rate)\n",
        "  elif dist>25 and dist<=50:\n",
        "    rate = 10000+(10*2500)+(15*2250)+((dist-25)*2000)\n",
        "    print(rate)\n",
        "  elif dist>50 and dist<=500:\n",
        "    rate = 10000+(10*2500)+(15*2250)+(25*1750)+((dist-50)*1750)\n",
        "    print(rate)\n",
        "  else:\n",
        "    print(\"Can't travel, maximum limits is 500 km\")\n",
        "  #----End of code---- \n",
        "\n",
        "#Don't change everything here\n",
        "docar_rate()"
      ]
    },
    {
      "cell_type": "code",
      "source": [
        "#Please complete this code to solve the case\n",
        "#Hint change the \"None\"\n",
        "\n",
        "def calculate_sugih():\n",
        "  cap = int(input('Input money capital : '))\n",
        "  ten = int(input('Input investment tenure(year) : '))\n",
        "\n",
        "#-----Start Code Here---------\n",
        "\n",
        "#first and second condition for maximum money capital and tenure limit\n",
        "  if cap < 0 or cap > 1000000000:\n",
        "    print(\"Your investment is reaching our limit, we can't handle this!\")\n",
        "  elif ten < 1 or ten > 25:\n",
        "    print(\"Maximum tenure should be 25 years!\")\n",
        "  else:\n",
        "    #initiate year\n",
        "    year = 0\n",
        "    total = cap\n",
        "    #begin the iteration, using while\n",
        "    while year < ten:\n",
        "      total = total + (total*0.25)\n",
        "      year = year + 1\n",
        "      print('Year {1}, your total investment : {0}'.format(total, year))\n",
        "  #-----End of Code Here---------\n",
        "\n",
        "#Don't change everything here\n",
        "calculate_sugih()"
      ],
      "metadata": {
        "id": "9hDJ6aRrTefP"
      },
      "execution_count": null,
      "outputs": []
    }
  ]
}